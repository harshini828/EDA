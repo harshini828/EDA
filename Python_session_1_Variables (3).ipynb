{
 "cells": [
  {
   "cell_type": "markdown",
   "id": "e97d536b-877f-4d85-9a7a-cf3f726d9f01",
   "metadata": {},
   "source": [
    "## Variables"
   ]
  },
  {
   "cell_type": "markdown",
   "id": "c6fb2e20-2d49-4262-b05a-79036b5c0d24",
   "metadata": {},
   "source": [
    "- Variables is used to store a value\n",
    "  \n",
    "- Variables can change their values\n",
    "  \n",
    "- In python latest value will be consider\n",
    "  \n",
    "- Python is a step by step process"
   ]
  },
  {
   "cell_type": "code",
   "execution_count": 4,
   "id": "78ec03ec-5c7f-4b38-a115-6758cb937630",
   "metadata": {},
   "outputs": [
    {
     "data": {
      "text/plain": [
       "10"
      ]
     },
     "execution_count": 4,
     "metadata": {},
     "output_type": "execute_result"
    }
   ],
   "source": [
    "num=10\n",
    "num\n",
    "\n",
    "# comment\n",
    "# value 10 stored in variable called 'num'"
   ]
  },
  {
   "cell_type": "code",
   "execution_count": 2,
   "id": "172f453d-acfb-476f-b5e4-e137e609e9b2",
   "metadata": {},
   "outputs": [
    {
     "data": {
      "text/plain": [
       "100"
      ]
     },
     "execution_count": 2,
     "metadata": {},
     "output_type": "execute_result"
    }
   ],
   "source": [
    "NUM=100\n",
    "NUM"
   ]
  },
  {
   "cell_type": "code",
   "execution_count": 5,
   "id": "0d6128af-11a8-4fc9-ac71-c9d86ebf1c9a",
   "metadata": {},
   "outputs": [],
   "source": [
    "# whenever you run\n",
    "# new cell will be created\n",
    "\n",
    "# shift+enter"
   ]
  },
  {
   "cell_type": "code",
   "execution_count": 6,
   "id": "ce87c682-4262-4b0e-81d8-e54dbebbc89a",
   "metadata": {},
   "outputs": [],
   "source": [
    "number=100"
   ]
  },
  {
   "cell_type": "code",
   "execution_count": 7,
   "id": "d1edcd5a-c391-4449-9c54-57bcb38fa75a",
   "metadata": {},
   "outputs": [
    {
     "data": {
      "text/plain": [
       "100"
      ]
     },
     "execution_count": 7,
     "metadata": {},
     "output_type": "execute_result"
    }
   ],
   "source": [
    "number"
   ]
  },
  {
   "cell_type": "code",
   "execution_count": null,
   "id": "e1b12310-2d42-4f33-b55c-7d722f55bf25",
   "metadata": {},
   "outputs": [],
   "source": [
    "# num=10\n",
    "# NUM=100"
   ]
  },
  {
   "cell_type": "code",
   "execution_count": 9,
   "id": "3a5720d1-0143-43ba-82b6-8e1832e35d8f",
   "metadata": {},
   "outputs": [
    {
     "data": {
      "text/plain": [
       "200"
      ]
     },
     "execution_count": 9,
     "metadata": {},
     "output_type": "execute_result"
    }
   ],
   "source": [
    "NUMber=200\n",
    "NUMber"
   ]
  },
  {
   "cell_type": "code",
   "execution_count": 10,
   "id": "2b623ad3-6289-4300-9352-11bfd8fc19f3",
   "metadata": {},
   "outputs": [
    {
     "data": {
      "text/plain": [
       "300"
      ]
     },
     "execution_count": 10,
     "metadata": {},
     "output_type": "execute_result"
    }
   ],
   "source": [
    "number123=300\n",
    "number123"
   ]
  },
  {
   "cell_type": "code",
   "execution_count": 11,
   "id": "14e11256-a04d-417a-a8ef-f7a1d08509e9",
   "metadata": {},
   "outputs": [
    {
     "ename": "SyntaxError",
     "evalue": "invalid decimal literal (359278068.py, line 1)",
     "output_type": "error",
     "traceback": [
      "\u001b[1;36m  Cell \u001b[1;32mIn[11], line 1\u001b[1;36m\u001b[0m\n\u001b[1;33m    123number=400\u001b[0m\n\u001b[1;37m      ^\u001b[0m\n\u001b[1;31mSyntaxError\u001b[0m\u001b[1;31m:\u001b[0m invalid decimal literal\n"
     ]
    }
   ],
   "source": [
    "123number=400\n",
    "123number"
   ]
  },
  {
   "cell_type": "code",
   "execution_count": 13,
   "id": "b383e3b9-f27e-460c-a39f-ac3c1fc3e70e",
   "metadata": {},
   "outputs": [],
   "source": [
    "omkar=500"
   ]
  },
  {
   "cell_type": "code",
   "execution_count": 14,
   "id": "694fd829-4d9a-494c-b717-b56b17fbaa1d",
   "metadata": {},
   "outputs": [
    {
     "data": {
      "text/plain": [
       "500"
      ]
     },
     "execution_count": 14,
     "metadata": {},
     "output_type": "execute_result"
    }
   ],
   "source": [
    "omkar"
   ]
  },
  {
   "cell_type": "code",
   "execution_count": 15,
   "id": "1d322b02-384e-45a1-a0de-32d2a276a1b5",
   "metadata": {},
   "outputs": [
    {
     "ename": "SyntaxError",
     "evalue": "cannot assign to expression here. Maybe you meant '==' instead of '='? (3649041288.py, line 1)",
     "output_type": "error",
     "traceback": [
      "\u001b[1;36m  Cell \u001b[1;32mIn[15], line 1\u001b[1;36m\u001b[0m\n\u001b[1;33m    number@one=1\u001b[0m\n\u001b[1;37m    ^\u001b[0m\n\u001b[1;31mSyntaxError\u001b[0m\u001b[1;31m:\u001b[0m cannot assign to expression here. Maybe you meant '==' instead of '='?\n"
     ]
    }
   ],
   "source": [
    "number@one=1\n",
    "number@one"
   ]
  },
  {
   "cell_type": "code",
   "execution_count": 16,
   "id": "27959e50-8e16-4128-965c-338a6e1d0658",
   "metadata": {},
   "outputs": [
    {
     "ename": "SyntaxError",
     "evalue": "invalid syntax (1683318022.py, line 1)",
     "output_type": "error",
     "traceback": [
      "\u001b[1;36m  Cell \u001b[1;32mIn[16], line 1\u001b[1;36m\u001b[0m\n\u001b[1;33m    number one=300\u001b[0m\n\u001b[1;37m           ^\u001b[0m\n\u001b[1;31mSyntaxError\u001b[0m\u001b[1;31m:\u001b[0m invalid syntax\n"
     ]
    }
   ],
   "source": [
    "number one=300\n",
    "number one"
   ]
  },
  {
   "cell_type": "code",
   "execution_count": 17,
   "id": "1ab4ce36-ab2d-4357-b4b9-2b7736c9d2d5",
   "metadata": {},
   "outputs": [
    {
     "data": {
      "text/plain": [
       "500"
      ]
     },
     "execution_count": 17,
     "metadata": {},
     "output_type": "execute_result"
    }
   ],
   "source": [
    "number_one=500\n",
    "number_one"
   ]
  },
  {
   "cell_type": "code",
   "execution_count": 18,
   "id": "7fd495f3-3c9d-41fa-af75-1f410c059135",
   "metadata": {},
   "outputs": [
    {
     "data": {
      "text/plain": [
       "800"
      ]
     },
     "execution_count": 18,
     "metadata": {},
     "output_type": "execute_result"
    }
   ],
   "source": [
    "_=800\n",
    "_"
   ]
  },
  {
   "cell_type": "code",
   "execution_count": 19,
   "id": "533e1c13-5838-4e7c-befc-0c8e437871be",
   "metadata": {},
   "outputs": [
    {
     "ename": "SyntaxError",
     "evalue": "invalid syntax (3092338201.py, line 1)",
     "output_type": "error",
     "traceback": [
      "\u001b[1;36m  Cell \u001b[1;32mIn[19], line 1\u001b[1;36m\u001b[0m\n\u001b[1;33m    if=700\u001b[0m\n\u001b[1;37m      ^\u001b[0m\n\u001b[1;31mSyntaxError\u001b[0m\u001b[1;31m:\u001b[0m invalid syntax\n"
     ]
    }
   ],
   "source": [
    "if=700\n",
    "if"
   ]
  },
  {
   "cell_type": "code",
   "execution_count": 20,
   "id": "d43898f9-fd3c-40a9-87b8-08373c07d3ca",
   "metadata": {},
   "outputs": [
    {
     "ename": "SyntaxError",
     "evalue": "invalid syntax (3034632313.py, line 1)",
     "output_type": "error",
     "traceback": [
      "\u001b[1;36m  Cell \u001b[1;32mIn[20], line 1\u001b[1;36m\u001b[0m\n\u001b[1;33m    while = 800\u001b[0m\n\u001b[1;37m          ^\u001b[0m\n\u001b[1;31mSyntaxError\u001b[0m\u001b[1;31m:\u001b[0m invalid syntax\n"
     ]
    }
   ],
   "source": [
    "while = 800\n",
    "while"
   ]
  },
  {
   "cell_type": "code",
   "execution_count": 21,
   "id": "ecfcaf73-fbde-4e10-8824-6760e3dd6eb4",
   "metadata": {},
   "outputs": [
    {
     "data": {
      "text/plain": [
       "1000"
      ]
     },
     "execution_count": 21,
     "metadata": {},
     "output_type": "execute_result"
    }
   ],
   "source": [
    "o_m_k_A_r=1000\n",
    "o_m_k_A_r"
   ]
  },
  {
   "cell_type": "markdown",
   "id": "589b29e6-d49c-4384-9504-c26072c450b8",
   "metadata": {},
   "source": [
    "- variables are case sensitive\n",
    "\n",
    "- variables can be capital and small letters\n",
    "\n",
    "- variables does not allow spl charcters except underscore\n",
    "\n",
    "- only underscore _  can be a varaible\n",
    "\n",
    "- variables does not contain space between the words\n",
    "\n",
    "- variables can not contain numbers as prefix  ex: 123num\n",
    "\n",
    "- variables can have numbers as suffix ex: num123\n",
    "\n",
    "- varaibles does not contain any keywords"
   ]
  },
  {
   "cell_type": "code",
   "execution_count": null,
   "id": "a9a55bc8-487b-484e-8f4f-58523b1eb68a",
   "metadata": {},
   "outputs": [],
   "source": [
    "- variables are case sensitive"
   ]
  }
 ],
 "metadata": {
  "kernelspec": {
   "display_name": "Python 3 (ipykernel)",
   "language": "python",
   "name": "python3"
  },
  "language_info": {
   "codemirror_mode": {
    "name": "ipython",
    "version": 3
   },
   "file_extension": ".py",
   "mimetype": "text/x-python",
   "name": "python",
   "nbconvert_exporter": "python",
   "pygments_lexer": "ipython3",
   "version": "3.11.7"
  }
 },
 "nbformat": 4,
 "nbformat_minor": 5
}
